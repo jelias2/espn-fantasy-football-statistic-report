{
 "cells": [
  {
   "cell_type": "code",
   "execution_count": 46,
   "id": "3574bc37",
   "metadata": {},
   "outputs": [
    {
     "name": "stderr",
     "output_type": "stream",
     "text": [
      "[I 220924 15:41:44 507508305:17] hello world from the notebook\n",
      "[I 220924 15:41:44 507508305:18] Namespace(arg='/Users/jacobelias/Library/Jupyter/runtime/kernel-340c986b-9a7c-4f18-bb1b-95c776280545.json', flag=True, ame=None, week=None, verbose=0)\n"
     ]
    },
    {
     "name": "stdout",
     "output_type": "stream",
     "text": [
      "Week:  2\n",
      "El Chapo\n",
      "None\n",
      "Rosen Sandler\n",
      "None\n",
      "Grayson BeatYu\n",
      "None\n",
      "Gisele'd in my  Wentz\n",
      "None\n",
      "Kupp My  Bells Gurley\n",
      "None\n",
      "Chiraqui Soldiers\n",
      "None\n",
      "J.G.'s  ZZ's \n",
      "None\n",
      "The  Red Army\n",
      "None\n",
      "Top G\n",
      "None\n",
      "Begelbaum Donuts\n",
      "None\n"
     ]
    }
   ],
   "source": [
    "#!/usr/bin/env python3\n",
    "\"\"\"\n",
    "Module Docstring\n",
    "\"\"\"\n",
    "\n",
    "__author__ = \"Your Name\"\n",
    "__version__ = \"0.1.0\"\n",
    "__license__ = \"MIT\"\n",
    "\n",
    "import argparse\n",
    "import os\n",
    "from logzero import logger\n",
    "from espn_api.football import League\n",
    "\n",
    "\n",
    "\"\"\" Main entry point of the app \"\"\"\n",
    "logger.info(\"hello world from the notebook\")\n",
    "logger.info(args)\n",
    "\n",
    "\n",
    "# Get environment variables\n",
    "swid = os.getenv('SWID')\n",
    "espn_s2 = os.environ.get('ESPN_S2')\n",
    "\n",
    "if swid == None or espn_s2 == None:\n",
    "    print(\"SWID or ESPN_S2 environment variables empty. Exiting...\")\n",
    "\n",
    "league = League(league_id=761056, year=2022, espn_s2=espn_s2,swid=swid)\n",
    "\n",
    "\n",
    "## Get Box Scores, pass in week \n",
    "week = 2\n",
    "if args.week != None:\n",
    "    week = args.week\n",
    "\n",
    "\n",
    "print(\"Week: \", week)\n",
    "box_scores = league.box_scores(2)\n",
    "\n",
    "\n",
    "\n",
    "# for matchup in box_scores:\n",
    "#     print(\"\")\n",
    "#     print(\"Home: \", matchup.home_team, \" vs. Away: \", matchup.away_team)\n",
    "#     print(\"=========================\")\n",
    "#     print(\"||  \", matchup.home_score, \"   ||   \", matchup.away_score)\n",
    "#     print(\"=========================\")\n",
    "\n",
    "\n",
    "\n",
    "# ## Team(J.G.'s  ZZ's ) -> J.G.'s  ZZ's \n",
    "# def prettyPrintTeam(s):\n",
    "#     print(s[s.find('(')+1:])\n",
    "    \n",
    "# for team in league.teams:\n",
    "#     print(prettyPrintTeam(str(team.team_name)))\n",
    "#     # for player in team.Roster:\n",
    "#     #     player.Name\n"
   ]
  },
  {
   "cell_type": "code",
   "execution_count": 15,
   "id": "bddf7ebd",
   "metadata": {},
   "outputs": [
    {
     "name": "stdout",
     "output_type": "stream",
     "text": [
      "Biggest Blowouts: \n",
      "Blowout Rankings:  [(Team(El Chapo), Team(Kupp My  Bells Gurley), 42.7), (Team(Grayson BeatYu), Team(Chiraqui Soldiers), 42.099999999999994), (Team(Gisele'd in my  Wentz), Team(Top G), 24.30000000000001), (Team(Begelbaum Donuts), Team(Rosen Sandler), 10.200000000000003), (Team(J.G.'s  ZZ's ), Team(The  Red Army), 6.200000000000003)]\n"
     ]
    },
    {
     "data": {
      "text/plain": [
       "[(Team(El Chapo), Team(Kupp My  Bells Gurley), 42.7),\n",
       " (Team(Grayson BeatYu), Team(Chiraqui Soldiers), 42.099999999999994),\n",
       " (Team(Gisele'd in my  Wentz), Team(Top G), 24.30000000000001),\n",
       " (Team(Begelbaum Donuts), Team(Rosen Sandler), 10.200000000000003),\n",
       " (Team(J.G.'s  ZZ's ), Team(The  Red Army), 6.200000000000003)]"
      ]
     },
     "execution_count": 15,
     "metadata": {},
     "output_type": "execute_result"
    }
   ],
   "source": [
    "def biggestBlowOut(league, week):\n",
    "    print(\"Biggest Blowouts: \")\n",
    "    outcomes = []\n",
    "    \n",
    "    box_scores = league.box_scores(week)\n",
    "    \n",
    "    for matchup in box_scores:\n",
    "        ## For Each Matchip calculate the diff\n",
    "        diff = 0\n",
    "        if matchup.home_score >= matchup.away_score:\n",
    "            diff = matchup.home_score - matchup.away_score\n",
    "            outcomes.append((matchup.home_team, matchup.away_team, diff))\n",
    "        else:\n",
    "            diff = matchup.away_score - matchup.home_score\n",
    "            outcomes.append((matchup.away_team, matchup.home_team, diff))\n",
    "            \n",
    "    sorted_scores = sorted(outcomes, key=lambda tup: tup[2], reverse=True)\n",
    "    print(\"Blowout Rankings: \", sorted_scores)\n",
    "    return sorted_scores\n",
    "\n",
    "\n",
    "biggestBlowOut(league, week)\n",
    "\n"
   ]
  },
  {
   "cell_type": "code",
   "execution_count": 78,
   "id": "0509c366",
   "metadata": {},
   "outputs": [
    {
     "name": "stdout",
     "output_type": "stream",
     "text": [
      "===============  QB  ===============\n",
      "1  26.7   Carson Wentz   Team(Gisele'd in my  Wentz)\n",
      "2  14.4   Marcus Mariota   Team(Rosen Sandler)\n",
      "3  12.6   Mac Jones   Team(The  Red Army)\n",
      "4  10.3   Mitch Trubisky   Team(J.G.'s  ZZ's )\n",
      "5  7.6   Jameis Winston   Team(Top G)\n",
      "  \n",
      "===============  RB  ===============\n",
      "1  17.8   Tony Pollard   Team(Top G)\n",
      "2  15.7   Damien Harris   Team(Chiraqui Soldiers)\n",
      "3  14.6   David Montgomery   Team(Kupp My  Bells Gurley)\n",
      "4  12.5   Breece Hall   Team(Top G)\n",
      "5  10.7   Darrell Henderson Jr.   Team(El Chapo)\n",
      "  \n",
      "===============  TE  ===============\n",
      "1  14.0   Darren Waller   Team(Gisele'd in my  Wentz)\n",
      "2  10.7   Dallas Goedert   Team(J.G.'s  ZZ's )\n",
      "3  4.1   T.J. Hockenson   Team(Gisele'd in my  Wentz)\n",
      "4  2.8   Dalton Schultz   Team(Begelbaum Donuts)\n",
      "5  0.0   George Kittle   Team(El Chapo)\n",
      "  \n"
     ]
    }
   ],
   "source": [
    "def biggestBenchWarmer(league, week, position):\n",
    "    if position not in [\"QB\", \"WR\", \"TE\", \"RB\"]:\n",
    "        return []\n",
    "    \n",
    "    \n",
    "    benchWarmers = []\n",
    "    box_scores = league.box_scores(week)\n",
    "    for matchup in box_scores:\n",
    "        ## For Each Matchip calculate the diff\n",
    "        for player in matchup.home_lineup:\n",
    "            if player.position == position and player.slot_position == \"BE\":\n",
    "#                 print(\"player: \", player.name, \" position: \", player.position, \" \", player.slot_position, \" \", matchup.home_team, \" \", player.points)\n",
    "                benchWarmers.append((player.points,player.name,player.position,matchup.home_team))\n",
    "                \n",
    "                \n",
    "        for player in matchup.away_lineup:\n",
    "            if player.position == position and player.slot_position == \"BE\":\n",
    "#                 print(\"player: \", player.name, \" position: \", player.position, \" \", player.slot_position, \" \", matchup.away_team, \" \",player.points )\n",
    "                benchWarmers.append((player.points,player.name,player.position,matchup.away_team))\n",
    "    \n",
    "\n",
    "    return sorted(benchWarmers, key=lambda tup: tup[0], reverse=True)\n",
    "\n",
    "\n",
    "def prettyPrintBenchWarmers(benchWarmers, position):\n",
    "    print(\"=============== \", position, \" ===============\")\n",
    "    for index, warmer in enumerate(benchWarmers):\n",
    "        print(index+1,\"\", warmer[0], \" \", warmer[1], \" \", warmer[3])\n",
    "    print(\"  \")\n",
    "        \n",
    "\n",
    "### QBs\n",
    "qbWarmers = biggestBenchWarmer(league, week, \"QB\")\n",
    "prettyPrintBenchWarmers(qbWarmers[:5], \"QB\")\n",
    "\n",
    "### RBs\n",
    "rbWarmers = biggestBenchWarmer(league, week, \"RB\")\n",
    "prettyPrintBenchWarmers(rbWarmers[:5], \"RB\")\n",
    "\n",
    "### TEs\n",
    "teWarmers = biggestBenchWarmer(league, week, \"TE\")\n",
    "prettyPrintBenchWarmers(teWarmers[:5], \"TE\")\n",
    "        \n",
    "    "
   ]
  },
  {
   "cell_type": "code",
   "execution_count": null,
   "id": "807db527",
   "metadata": {},
   "outputs": [],
   "source": []
  }
 ],
 "metadata": {
  "kernelspec": {
   "display_name": "Python 3 (ipykernel)",
   "language": "python",
   "name": "python3"
  },
  "language_info": {
   "codemirror_mode": {
    "name": "ipython",
    "version": 3
   },
   "file_extension": ".py",
   "mimetype": "text/x-python",
   "name": "python",
   "nbconvert_exporter": "python",
   "pygments_lexer": "ipython3",
   "version": "3.10.6"
  }
 },
 "nbformat": 4,
 "nbformat_minor": 5
}
