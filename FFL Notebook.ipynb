{
 "cells": [
  {
   "cell_type": "code",
   "execution_count": 82,
   "id": "e50991f2",
   "metadata": {},
   "outputs": [
    {
     "name": "stderr",
     "output_type": "stream",
     "text": [
      "[I 220924 16:08:28 3687429929:19] hello world from the notebook\n",
      "[I 220924 16:08:28 3687429929:20] Namespace(arg='/Users/jacobelias/Library/Jupyter/runtime/kernel-340c986b-9a7c-4f18-bb1b-95c776280545.json', flag=True, ame=None, week=None, verbose=0)\n"
     ]
    },
    {
     "name": "stdout",
     "output_type": "stream",
     "text": [
      "Week:  2\n"
     ]
    }
   ],
   "source": [
    "#!/usr/bin/env python3\n",
    "\"\"\"\n",
    "Module Docstring\n",
    "\"\"\"\n",
    "\n",
    "__author__ = \"Your Name\"\n",
    "__version__ = \"0.1.0\"\n",
    "__license__ = \"MIT\"\n",
    "\n",
    "import argparse\n",
    "import os\n",
    "from logzero import logger\n",
    "from espn_api.football import League\n",
    "\n",
    "\n",
    "POSITIONS = [\"QB\", \"WR\", \"TE\", \"RB\"]\n",
    "\n",
    "\"\"\" Main entry point of the app \"\"\"\n",
    "logger.info(\"hello world from the notebook\")\n",
    "logger.info(args)\n",
    "\n",
    "\n",
    "# Get environment variables\n",
    "swid = os.getenv('SWID')\n",
    "espn_s2 = os.environ.get('ESPN_S2')\n",
    "\n",
    "if swid == None or espn_s2 == None:\n",
    "    print(\"SWID or ESPN_S2 environment variables empty. Exiting...\")\n",
    "\n",
    "league = League(league_id=761056, year=2022, espn_s2=espn_s2,swid=swid)\n",
    "\n",
    "\n",
    "## Get Box Scores, pass in week \n",
    "week = 2\n",
    "if args.week != None:\n",
    "    week = args.week\n",
    "\n",
    "\n",
    "print(\"Week: \", week)\n",
    "box_scores = league.box_scores(2)\n",
    "\n",
    "\n",
    "\n",
    "# for matchup in box_scores:\n",
    "#     print(\"\")\n",
    "#     print(\"Home: \", matchup.home_team, \" vs. Away: \", matchup.away_team)\n",
    "#     print(\"=========================\")\n",
    "#     print(\"||  \", matchup.home_score, \"   ||   \", matchup.away_score)\n",
    "#     print(\"=========================\")\n",
    "\n",
    "\n",
    "\n",
    "# ## Team(J.G.'s  ZZ's ) -> J.G.'s  ZZ's \n",
    "# def prettyPrintTeam(s):\n",
    "#     print(s[s.find('(')+1:])\n",
    "    \n",
    "# for team in league.teams:\n",
    "#     print(prettyPrintTeam(str(team.team_name)))\n",
    "#     # for player in team.Roster:\n",
    "#     #     player.Name\n"
   ]
  },
  {
   "cell_type": "code",
   "execution_count": 80,
   "id": "7c464463",
   "metadata": {},
   "outputs": [
    {
     "name": "stdout",
     "output_type": "stream",
     "text": [
      "Biggest Blowouts: \n",
      "Blowout Rankings:  [(Team(El Chapo), Team(Kupp My  Bells Gurley), 42.7), (Team(Grayson BeatYu), Team(Chiraqui Soldiers), 42.099999999999994), (Team(Gisele'd in my  Wentz), Team(Top G), 24.30000000000001), (Team(Begelbaum Donuts), Team(Rosen Sandler), 10.200000000000003), (Team(J.G.'s  ZZ's ), Team(The  Red Army), 6.200000000000003)]\n"
     ]
    },
    {
     "data": {
      "text/plain": [
       "[(Team(El Chapo), Team(Kupp My  Bells Gurley), 42.7),\n",
       " (Team(Grayson BeatYu), Team(Chiraqui Soldiers), 42.099999999999994),\n",
       " (Team(Gisele'd in my  Wentz), Team(Top G), 24.30000000000001),\n",
       " (Team(Begelbaum Donuts), Team(Rosen Sandler), 10.200000000000003),\n",
       " (Team(J.G.'s  ZZ's ), Team(The  Red Army), 6.200000000000003)]"
      ]
     },
     "execution_count": 80,
     "metadata": {},
     "output_type": "execute_result"
    }
   ],
   "source": [
    "def biggestBlowOut(league, week):\n",
    "    print(\"Biggest Blowouts: \")\n",
    "    outcomes = []\n",
    "    \n",
    "    box_scores = league.box_scores(week)\n",
    "    \n",
    "    for matchup in box_scores:\n",
    "        ## For Each Matchip calculate the diff\n",
    "        diff = 0\n",
    "        if matchup.home_score >= matchup.away_score:\n",
    "            diff = matchup.home_score - matchup.away_score\n",
    "            outcomes.append((matchup.home_team, matchup.away_team, diff))\n",
    "        else:\n",
    "            diff = matchup.away_score - matchup.home_score\n",
    "            outcomes.append((matchup.away_team, matchup.home_team, diff))\n",
    "            \n",
    "    sorted_scores = sorted(outcomes, key=lambda tup: tup[2], reverse=True)\n",
    "    print(\"Blowout Rankings: \", sorted_scores)\n",
    "    return sorted_scores\n",
    "\n",
    "\n",
    "biggestBlowOut(league, week)\n",
    "\n"
   ]
  },
  {
   "cell_type": "code",
   "execution_count": 81,
   "id": "303db3ca",
   "metadata": {},
   "outputs": [
    {
     "name": "stdout",
     "output_type": "stream",
     "text": [
      "===============  QB  ===============\n",
      "1  26.7   Carson Wentz   Team(Gisele'd in my  Wentz)\n",
      "2  14.4   Marcus Mariota   Team(Rosen Sandler)\n",
      "3  12.6   Mac Jones   Team(The  Red Army)\n",
      "4  10.3   Mitch Trubisky   Team(J.G.'s  ZZ's )\n",
      "5  7.6   Jameis Winston   Team(Top G)\n",
      "  \n",
      "===============  RB  ===============\n",
      "1  17.8   Tony Pollard   Team(Top G)\n",
      "2  15.7   Damien Harris   Team(Chiraqui Soldiers)\n",
      "3  14.6   David Montgomery   Team(Kupp My  Bells Gurley)\n",
      "4  12.5   Breece Hall   Team(Top G)\n",
      "5  10.7   Darrell Henderson Jr.   Team(El Chapo)\n",
      "  \n",
      "===============  TE  ===============\n",
      "1  14.0   Darren Waller   Team(Gisele'd in my  Wentz)\n",
      "2  10.7   Dallas Goedert   Team(J.G.'s  ZZ's )\n",
      "3  4.1   T.J. Hockenson   Team(Gisele'd in my  Wentz)\n",
      "4  2.8   Dalton Schultz   Team(Begelbaum Donuts)\n",
      "5  0.0   George Kittle   Team(El Chapo)\n",
      "  \n"
     ]
    }
   ],
   "source": [
    "def biggestBenchWarmer(league, week, position):\n",
    "    if position not in POSTIONS:\n",
    "        return []\n",
    "    \n",
    "    \n",
    "    benchWarmers = []\n",
    "    box_scores = league.box_scores(week)\n",
    "    for matchup in box_scores:\n",
    "        ## For Each Matchip calculate the diff\n",
    "        for player in matchup.home_lineup:\n",
    "            if player.position == position and player.slot_position == \"BE\":\n",
    "#                 print(\"player: \", player.name, \" position: \", player.position, \" \", player.slot_position, \" \", matchup.home_team, \" \", player.points)\n",
    "                benchWarmers.append((player.points,player.name,player.position,matchup.home_team))\n",
    "                \n",
    "                \n",
    "        for player in matchup.away_lineup:\n",
    "            if player.position == position and player.slot_position == \"BE\":\n",
    "#                 print(\"player: \", player.name, \" position: \", player.position, \" \", player.slot_position, \" \", matchup.away_team, \" \",player.points )\n",
    "                benchWarmers.append((player.points,player.name,player.position,matchup.away_team))\n",
    "    \n",
    "\n",
    "    return sorted(benchWarmers, key=lambda tup: tup[0], reverse=True)\n",
    "\n",
    "\n",
    "def prettyPrintBenchWarmers(benchWarmers, position):\n",
    "    print(\"=============== \", position, \" ===============\")\n",
    "    for index, warmer in enumerate(benchWarmers):\n",
    "        print(index+1,\"\", warmer[0], \" \", warmer[1], \" \", warmer[3])\n",
    "    print(\"  \")\n",
    "        \n",
    "\n",
    "### QBs\n",
    "qbWarmers = biggestBenchWarmer(league, week, \"QB\")\n",
    "prettyPrintBenchWarmers(qbWarmers[:5], \"QB\")\n",
    "\n",
    "### RBs\n",
    "rbWarmers = biggestBenchWarmer(league, week, \"RB\")\n",
    "prettyPrintBenchWarmers(rbWarmers[:5], \"RB\")\n",
    "\n",
    "### TEs\n",
    "teWarmers = biggestBenchWarmer(league, week, \"TE\")\n",
    "prettyPrintBenchWarmers(teWarmers[:5], \"TE\")\n",
    "        \n",
    "    "
   ]
  },
  {
   "cell_type": "code",
   "execution_count": 83,
   "id": "8fc1abf4",
   "metadata": {},
   "outputs": [],
   "source": [
    "# ### Total Points Played / Optimal Lineup\n",
    "# lineup_format = {\n",
    "#     \"QB\": 2\n",
    "#     \"RB\": 2\n",
    "#     \"\"\n",
    "# }\n",
    "# def excessBenchPoints(lineup, position):\n",
    "#     for player in lineup:\n",
    "#         if player.position == position and player.slot_position == \"BE\":\n",
    "# #              print(\"player: \", player.name, \" position: \", player.position, \" \", player.slot_position, \" \", matchup.home_team, \" \", player.points)\n",
    "#         benchWarmers.append((player.points,player.name,player.position,matchup.home_team))\n",
    "        \n",
    "    \n",
    "\n",
    "\n",
    "\n",
    "# def managerEffencieny(league, week):\n",
    "    \n",
    "#     for box_scores = league.box_scores(week)\n",
    "#         for matchup in box_scores:\n",
    "#             getOptimalLineup(matchup.home_lineup)\n",
    "    "
   ]
  },
  {
   "cell_type": "code",
   "execution_count": 91,
   "id": "add42639",
   "metadata": {},
   "outputs": [
    {
     "name": "stdout",
     "output_type": "stream",
     "text": [
      "Team(J.G.'s  ZZ's ) 89.8  vs  Team(The  Red Army) 83.6\n"
     ]
    }
   ],
   "source": [
    "def worstWin(league, week):\n",
    "    box_scores = league.box_scores(week)\n",
    "    lowestWinningScore = 99999999999\n",
    "    saved = None\n",
    "    for matchup in box_scores:\n",
    "        if matchup.home_score >= matchup.away_score:\n",
    "            lowestWinningScore = min(matchup.home_score, lowestWinningScore)\n",
    "        else:\n",
    "            lowestWinningScore = min(matchup.away_score, lowestWinningScore)\n",
    "            \n",
    "        \n",
    "        if lowestWinningScore == matchup.away_score or lowestWinningScore == matchup.home_score:\n",
    "            saved = matchup\n",
    "    print(saved.home_team, saved.home_score, \" vs \", saved.away_team, saved.away_score)\n",
    "\n",
    "    \n",
    "worstWin(league, week)"
   ]
  },
  {
   "cell_type": "code",
   "execution_count": 93,
   "id": "c50a5243",
   "metadata": {},
   "outputs": [
    {
     "name": "stdout",
     "output_type": "stream",
     "text": [
      "Team(Kupp My  Bells Gurley) 119.2  vs  Team(El Chapo) 161.9\n"
     ]
    }
   ],
   "source": [
    "def worstLoss(league, week):\n",
    "    box_scores = league.box_scores(week)\n",
    "    higestLoss = 0\n",
    "    saved = None\n",
    "    for matchup in box_scores:\n",
    "        if matchup.home_score >= matchup.away_score:\n",
    "            higestLoss = max(matchup.away_score, higestLoss)\n",
    "        else:\n",
    "            higestLoss = max(matchup.home_score, higestLoss)\n",
    "            \n",
    "        \n",
    "        if higestLoss == matchup.away_score or higestLoss == matchup.home_score:\n",
    "            saved = matchup\n",
    "    print(saved.home_team, saved.home_score, \" vs \", saved.away_team, saved.away_score)\n",
    "\n",
    "    \n",
    "worstLoss(league, week)"
   ]
  },
  {
   "cell_type": "code",
   "execution_count": 114,
   "id": "4cac319d",
   "metadata": {},
   "outputs": [
    {
     "name": "stdout",
     "output_type": "stream",
     "text": [
      "======= Top Heavy Teams ========\n",
      "1   Team(Rosen Sandler) Tua Tagovailoa 38.7 12.12\n",
      "2   Team(Top G) Stefon Diggs 38.8 13.07\n",
      "3   Team(El Chapo) Lamar Jackson 42.5 20.24\n"
     ]
    }
   ],
   "source": [
    "def startingLineupAverage(lineup):\n",
    "    starterOutput = [] \n",
    "    for player in lineup:\n",
    "        if player.slot_position != \"BE\" and player.slot_position != \"IR\":\n",
    "            starterOutput.append(player.points)         \n",
    "    return sum(starterOutput)/len(starterOutput)\n",
    "\n",
    "\n",
    "def highestScoringStarter(lineup):\n",
    "    highestScore = 0\n",
    "    bestPlayer = None\n",
    "    for player in lineup:\n",
    "        if player.slot_position != \"BE\" and player.slot_position != \"IR\":\n",
    "            if player.points > highestScore:\n",
    "                highestScore = player.points\n",
    "                bestPlayer = player\n",
    "    return bestPlayer\n",
    "    \n",
    "    \n",
    "## Team with greatest differences between max player and team average\n",
    "def topHeavyTeams(league, week):\n",
    "    allTeams = []\n",
    "    box_scores = league.box_scores(week)\n",
    "    for matchup in box_scores:\n",
    "        \n",
    "        ## HOME TEAM\n",
    "        avg = startingLineupAverage(matchup.home_lineup)\n",
    "        maxPlayer = highestScoringStarter(matchup.home_lineup)\n",
    "        allTeams.append((matchup.home_team, avg, maxPlayer, maxPlayer.points - avg))\n",
    "        \n",
    "        ## AWAY TEAM\n",
    "        avg = startingLineupAverage(matchup.away_lineup)\n",
    "        maxPlayer = highestScoringStarter(matchup.away_lineup)\n",
    "        allTeams.append((matchup.away_team, avg, maxPlayer, maxPlayer.points - avg))\n",
    "        \n",
    "    allTeamSorted = sorted(allTeams, key=lambda tup: tup[3], reverse=True)\n",
    "    return allTeamSorted\n",
    "                                         \n",
    "\n",
    "topHeavyList = topHeavyTeams(league, week)\n",
    "\n",
    "print(\"======= Top Heavy Teams ========\")\n",
    "for index, team in enumerate(topHeavyList[:3]):\n",
    "    print(index+1, \" \", team[0], team[2].name, team[2].points, \"{:.2f}\".format(team[1]))\n",
    "        "
   ]
  },
  {
   "cell_type": "code",
   "execution_count": 117,
   "id": "22408b58",
   "metadata": {},
   "outputs": [
    {
     "name": "stdout",
     "output_type": "stream",
     "text": [
      "======= Highest Average for Starters ========\n",
      "1   Team(El Chapo) 20.2375\n",
      "2   Team(Gisele'd in my  Wentz) 16.1125\n",
      "3   Team(Grayson BeatYu) 15.375\n"
     ]
    }
   ],
   "source": [
    "## Team with greatest differences between max player and team average\n",
    "def highestTeamAverageForStarters(league, week):\n",
    "    allTeams = []\n",
    "    box_scores = league.box_scores(week)\n",
    "    for matchup in box_scores:\n",
    "        \n",
    "        ## HOME TEAM\n",
    "        avg = startingLineupAverage(matchup.home_lineup)\n",
    "        allTeams.append((matchup.home_team, avg))\n",
    "        \n",
    "        ## AWAY TEAM\n",
    "        avg = startingLineupAverage(matchup.away_lineup)\n",
    "        maxPlayer = highestScoringStarter(matchup.away_lineup)\n",
    "        allTeams.append((matchup.away_team, avg))\n",
    "        \n",
    "    allTeamSorted = sorted(allTeams, key=lambda tup: tup[1], reverse=True)\n",
    "    return allTeamSorted\n",
    "\n",
    "\n",
    "print(\"======= Highest Average for Starters ========\")\n",
    "for index, team in enumerate(highestTeamAverageForStarters(league,week)[:3]):\n",
    "    print(index+1, \" \", team[0], team[1])\n",
    "                                   "
   ]
  }
 ],
 "metadata": {
  "kernelspec": {
   "display_name": "Python 3 (ipykernel)",
   "language": "python",
   "name": "python3"
  },
  "language_info": {
   "codemirror_mode": {
    "name": "ipython",
    "version": 3
   },
   "file_extension": ".py",
   "mimetype": "text/x-python",
   "name": "python",
   "nbconvert_exporter": "python",
   "pygments_lexer": "ipython3",
   "version": "3.10.6"
  }
 },
 "nbformat": 4,
 "nbformat_minor": 5
}
